{
 "cells": [
  {
   "cell_type": "code",
   "execution_count": 1,
   "metadata": {},
   "outputs": [],
   "source": [
    "import numpy as np \n",
    "import cv2"
   ]
  },
  {
   "cell_type": "code",
   "execution_count": 4,
   "metadata": {},
   "outputs": [],
   "source": [
    "cap=cv2.VideoCapture(0)\n",
    "while True:\n",
    "    _, frame=cap.read()\n",
    "    hsv=cv2.cvtColor(frame, cv2.COLOR_BGR2HSV)\n",
    "    lower_red=np.array([150,150,150])\n",
    "    upper_red=np.array([180,255,255])\n",
    "    mask=cv2.inRange(hsv,lower_red, upper_red)\n",
    "    res=cv2.bitwise_and(frame, frame, mask=mask)\n",
    "    kernel=np.ones((15,15), np.float32)/255\n",
    "    median=cv2.medianBlur(res,15)\n",
    "    bilateral=cv2.bilateralFilter(res, 15, 15 , 75)\n",
    "    cv2.imshow('frame',frame)\n",
    "    #cv2.imshow('mask',mask)\n",
    "    cv2.imshow('res',res)\n",
    "    if cv2.waitKey(5) & 0xFF==ord('q'):\n",
    "        break\n",
    "cv2.destroyAllWindows()\n",
    "cap.release()"
   ]
  }
 ],
 "metadata": {
  "kernelspec": {
   "display_name": "Python 3",
   "language": "python",
   "name": "python3"
  },
  "language_info": {
   "codemirror_mode": {
    "name": "ipython",
    "version": 3
   },
   "file_extension": ".py",
   "mimetype": "text/x-python",
   "name": "python",
   "nbconvert_exporter": "python",
   "pygments_lexer": "ipython3",
   "version": "3.8.0"
  }
 },
 "nbformat": 4,
 "nbformat_minor": 4
}
