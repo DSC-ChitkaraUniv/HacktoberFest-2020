{
 "cells": [
  {
   "cell_type": "code",
   "execution_count": 1,
   "metadata": {},
   "outputs": [],
   "source": [
    "import cv2\n",
    "import numpy as np"
   ]
  },
  {
   "cell_type": "code",
   "execution_count": 2,
   "metadata": {},
   "outputs": [],
   "source": [
    "cap=cv2.VideoCapture(0)\n",
    "while True:\n",
    "    _,frame=cap.read()\n",
    "    laplacian=cv2.Laplacian(frame, cv2.CV_64F)\n",
    "    sobelx=cv2.Sobel(frame, cv2.CV_64F, 1, 0, ksize=5)\n",
    "    sobely=cv2.Sobel(frame, cv2.CV_64F, 0, 1, ksize=5)\n",
    "    edges=cv2.Canny(frame, 200, 200)\n",
    "    cv2.imshow('original',frame)\n",
    "    cv2.imshow('laplacian',laplacian)\n",
    "    #cv2.imshow('sobelx',sobelx)\n",
    "    #cv2.imshow('sobely',sobely)\n",
    "    cv2.imshow('edges',edges)\n",
    "    if cv2.waitKey(1)==ord('q'):\n",
    "        break\n",
    "cv2.destroyAllWindows()\n",
    "cap.release()"
   ]
  }
 ],
 "metadata": {
  "kernelspec": {
   "display_name": "Python 3",
   "language": "python",
   "name": "python3"
  },
  "language_info": {
   "codemirror_mode": {
    "name": "ipython",
    "version": 3
   },
   "file_extension": ".py",
   "mimetype": "text/x-python",
   "name": "python",
   "nbconvert_exporter": "python",
   "pygments_lexer": "ipython3",
   "version": "3.7.6"
  }
 },
 "nbformat": 4,
 "nbformat_minor": 4
}
